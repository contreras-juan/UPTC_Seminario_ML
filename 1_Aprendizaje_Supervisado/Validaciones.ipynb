{
 "cells": [
  {
   "cell_type": "markdown",
   "id": "a2dbff4d-e3d3-434a-8360-a14b5f4b4342",
   "metadata": {},
   "source": [
    "<a href=\"https://colab.research.google.com/github/contreras-juan/UPTC_Seminario_ML/blob/main/1_Aprendizaje_Supervisado/Validaciones.ipynb\" target=\"_parent\"><img src=\"https://colab.research.google.com/assets/colab-badge.svg\" alt=\"Open In Colab\"/></a>"
   ]
  },
  {
   "cell_type": "markdown",
   "id": "faf3c3d4-d16d-4a6e-ba4b-e46e448425de",
   "metadata": {},
   "source": [
    "Autor: [Juan Felipe Contreras](https://www.linkedin.com/in/juanf-contreras/)"
   ]
  },
  {
   "cell_type": "markdown",
   "id": "9e64559b-2c11-4cbb-81c2-1e983140c032",
   "metadata": {},
   "source": [
    "<h1 align = 'center'> Validaciones cruzadas y búsqueda de hiperparámetros </h1>"
   ]
  },
  {
   "cell_type": "markdown",
   "id": "1c11bec9-2b4a-4a2b-8c5b-75372140d026",
   "metadata": {},
   "source": [
    "La validación cruzada y la búsqueda de hiperparámetros son técnicas esenciales en el campo del aprendizaje de máquinas para garantizar el rendimiento óptimo de un modelo. La validación cruzada es un método para evaluar el rendimiento de un modelo al dividir los datos en conjuntos de entrenamiento y prueba múltiples veces, lo que permite una evaluación más robusta de su capacidad predictiva. Por otro lado, la búsqueda de hiperparámetros implica encontrar la combinación óptima de parámetros del modelo que maximice su rendimiento predictivo. Ambos procesos son fundamentales para garantizar que un modelo de aprendizaje profundo pueda generalizar bien a datos nuevos y desconocidos, maximizando su utilidad en aplicaciones del mundo real.\n",
    "\n",
    "En el enfoque tradicional, dividimos la muestra total de los datos en un conjunto de entrenamiento y uno de prueba; entrenamos los datos con el primer conjunto y lo evaluamos con el segundo. Esta metodología presenta algunas debilidades; la principal es el sesgo de muestra, lo que puede ocasionar que la distribución de alguna variable en los datos de entrenamiento no sea cercana a la distribución de la variable en la muestra total."
   ]
  },
  {
   "cell_type": "code",
   "execution_count": 1,
   "id": "b63c8ac5-a873-4742-a6db-fde5ba918384",
   "metadata": {},
   "outputs": [],
   "source": [
    "from sklearn import datasets\n",
    "from sklearn.model_selection import train_test_split\n",
    "import numpy as np\n",
    "import matplotlib.pyplot as plt"
   ]
  },
  {
   "cell_type": "code",
   "execution_count": 2,
   "id": "55dff66a-9074-4a34-809d-6451453d7539",
   "metadata": {},
   "outputs": [],
   "source": [
    "iris = datasets.load_iris()\n",
    "X = iris['data']\n",
    "y = iris['target']"
   ]
  },
  {
   "cell_type": "code",
   "execution_count": 3,
   "id": "ebd06134-2679-44d5-868f-bb9b017b8ba4",
   "metadata": {},
   "outputs": [
    {
     "data": {
      "image/png": "[encoded data removed]",
      "text/plain": [
       "<Figure size 1500x500 with 2 Axes>"
      ]
     },
     "metadata": {},
     "output_type": "display_data"
    }
   ],
   "source": [
    "categories = ['Setosa', 'Versicolor', 'Virgínica']\n",
    "\n",
    "fig, ax = plt.subplots(1,2, figsize=(15, 5))\n",
    "\n",
    "\n",
    "X_train, X_test, y_train, y_test = train_test_split(X, y, random_state=42)\n",
    "\n",
    "frequencies = np.unique(y_train, return_counts=True)[1]\n",
    "\n",
    "ax[0].bar(categories, frequencies)\n",
    "ax[0].set_title('Distribución sin estratificación')\n",
    "ax[0].set_ylabel('Frecuencia')\n",
    "\n",
    "X_train, X_test, y_train, y_test = train_test_split(X, y, random_state=42, stratify=y)\n",
    "\n",
    "frequencies = np.unique(y_train, return_counts=True)[1]\n",
    "\n",
    "ax[1].bar(categories, frequencies)\n",
    "ax[1].set_title('Distribución con estratificación')\n",
    "ax[1].set_ylabel('Frecuencia');"
   ]
  },
  {
   "cell_type": "markdown",
   "id": "30b5477e-6055-4312-ab38-72a6c92dae56",
   "metadata": {},
   "source": [
    "<h2> Dejar uno por fuera (Leave-One-Out) </h2>"
   ]
  },
  {
   "cell_type": "markdown",
   "id": "89e6da8b-853a-49b7-aacd-e78445e3090f",
   "metadata": {},
   "source": [
    "Otra estrategia adicional que puede emplearse es dividir los datos de entrenamiento en subconjuntos de tamaño $N$ y dividir cada subconjunto en su propio subconjunto de entrenamiento y prueba, en dónde esté último es un conjunto de un solo elemento. Es decir, sea $X_{N \\text{x} K}$ nuestros datos de entrenamiento, generamos $N$ particiones diferentes permitiendo que cada elemento de la muestra sea el dato de prueba una sola vez. Para cada iteración calculamos el error del modelo, y finalmente promediamos los errores.\n",
    "\n",
    "\n",
    "<img src = 'img/LOO.png'>\n",
    "\n",
    "Fuente: [Raschka and Mirjalili](https://www.buscalibre.com.co/libro-python-machine-learning-machine-learning-and-deep-learning-with-python-scikit-learn-and-tensorflow-2-3rd-edition/9781789955750/p/52197210)"
   ]
  },
  {
   "cell_type": "code",
   "execution_count": 4,
   "id": "27f0d813-7d90-4120-b1c6-fc77fc474c71",
   "metadata": {},
   "outputs": [],
   "source": [
    "from sklearn.model_selection import LeaveOneOut\n",
    "from sklearn.neighbors import KNeighborsClassifier\n",
    "from sklearn.metrics import accuracy_score"
   ]
  },
  {
   "cell_type": "code",
   "execution_count": 5,
   "id": "786df497-0903-4b3a-8524-2af0ca7ddab4",
   "metadata": {},
   "outputs": [
    {
     "name": "stdout",
     "output_type": "stream",
     "text": [
      "Accuracy: 0.967\n"
     ]
    }
   ],
   "source": [
    "loo = LeaveOneOut()\n",
    "knn = KNeighborsClassifier(n_neighbors=5)\n",
    "\n",
    "y_true, y_pred = list(), list()\n",
    "\n",
    "for train_ix, test_ix in loo.split(X):\n",
    "    X_train, X_test = X[train_ix, :], X[test_ix, :]\n",
    "    y_train, y_test = y[train_ix], y[test_ix]\n",
    "    \n",
    "    # fit model\n",
    "    knn.fit(X_train, y_train)\n",
    "    \n",
    "    # evaluate model\n",
    "    yhat = knn.predict(X_test)\n",
    "    \n",
    "    # store\n",
    "    y_true.append(y_test[0])\n",
    "    y_pred.append(yhat[0])\n",
    "    \n",
    "acc = accuracy_score(y_true, y_pred)\n",
    "print('Accuracy: %.3f' % acc)"
   ]
  },
  {
   "cell_type": "markdown",
   "id": "5bc7a6cb-3662-43be-b267-3db90fa61e1c",
   "metadata": {},
   "source": [
    "<h2> Dejar $p$ por fuera (Leave P Out)"
   ]
  },
  {
   "cell_type": "markdown",
   "id": "09044b72-9c78-4d54-a29f-d8963983ae4e",
   "metadata": {},
   "source": [
    "Un caso general de la técnica de dejar a uno por fuera es la de dejar $p$ por fuera, lo que consiste en replicar el mismo ejercicio anterior en el que los datos de prueba de cada subconjunto de los datos de entrenamiento es de tamaño $p$."
   ]
  },
  {
   "cell_type": "code",
   "execution_count": 6,
   "id": "87879257-a5bf-4a91-810b-e3598d882f8e",
   "metadata": {},
   "outputs": [],
   "source": [
    "from sklearn.model_selection import LeavePOut\n",
    "import datetime"
   ]
  },
  {
   "cell_type": "code",
   "execution_count": 7,
   "id": "a2409291-1859-4231-b029-556a79b3c47d",
   "metadata": {},
   "outputs": [
    {
     "name": "stdout",
     "output_type": "stream",
     "text": [
      "Accuracy: 0.974\n",
      "Tiempo de procesamiento: 0:00:04.243217\n"
     ]
    }
   ],
   "source": [
    "start_time = datetime.datetime.now()\n",
    "\n",
    "lpo = LeavePOut(p=2)\n",
    "knn = KNeighborsClassifier(n_neighbors=5)\n",
    "\n",
    "y_true, y_pred = list(), list()\n",
    "\n",
    "for train_ix, test_ix in lpo.split(X):\n",
    "    X_train, X_test = X[train_ix, :], X[test_ix, :]\n",
    "    y_train, y_test = y[train_ix], y[test_ix]\n",
    "    \n",
    "    # fit model\n",
    "    knn.fit(X_train, y_train)\n",
    "    \n",
    "    # evaluate model\n",
    "    yhat = knn.predict(X_test)\n",
    "    \n",
    "    # store\n",
    "    y_true.append(y_test[0])\n",
    "    y_pred.append(yhat[0])\n",
    "    \n",
    "acc = accuracy_score(y_true, y_pred)\n",
    "print('Accuracy: %.3f' % acc)\n",
    "\n",
    "end_time = datetime.datetime.now()\n",
    "\n",
    "print('Tiempo de procesamiento:', end_time - start_time)"
   ]
  },
  {
   "cell_type": "markdown",
   "id": "cbb96cc1-c31c-425e-8a80-9c574fcc6480",
   "metadata": {},
   "source": [
    "<h2> K-Folds </h2>"
   ]
  },
  {
   "cell_type": "markdown",
   "id": "9df6b7ee-7a6f-4575-95f2-a7e35ef246bf",
   "metadata": {},
   "source": [
    "Una generalización de las metodologías anteriores consiste en una validación cruzada K-Fold que consiste en en dividir los datos de entrenamiento entre $K$ particiones. Para cada una de ellas entrenamos el modelo con los $K - 1$ subconjuntos, y evaluamos con el $K-ésimo$. Note que si $K = N$, esta técnica coincide con Leave One Out.\n",
    "\n",
    "<img src='img/KCV.png'>\n",
    "\n",
    "Fuente: [Scikit-Learn](https://scikit-learn.org/stable/modules/cross_validation.html)"
   ]
  }
 ],
 "metadata": {
  "kernelspec": {
   "display_name": "Python 3 (ipykernel)",
   "language": "python",
   "name": "python3"
  },
  "language_info": {
   "codemirror_mode": {
    "name": "ipython",
    "version": 3
   },
   "file_extension": ".py",
   "mimetype": "text/x-python",
   "name": "python",
   "nbconvert_exporter": "python",
   "pygments_lexer": "ipython3",
   "version": "3.10.11"
  }
 },
 "nbformat": 4,
 "nbformat_minor": 5
}
