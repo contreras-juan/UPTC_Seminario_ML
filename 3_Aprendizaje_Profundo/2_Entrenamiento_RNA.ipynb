{
 "cells": [
  {
   "cell_type": "markdown",
   "id": "7bde2b84-0f4a-46c2-8f55-0599ba2f3b3c",
   "metadata": {},
   "source": [
    "<a href=\"https://colab.research.google.com/github/contreras-juan/UPTC_Seminario_ML/blob/main/3_Aprendizaje_Profundo/2_Entrenamiento_ANN.ipynb\" target=\"_parent\"><img src=\"https://colab.research.google.com/assets/colab-badge.svg\" alt=\"Open In Colab\"/></a>"
   ]
  },
  {
   "cell_type": "markdown",
   "id": "5ca18106-98d5-4cf2-813b-b2c8fd3b00c4",
   "metadata": {},
   "source": [
    "Author: [Juan Felipe Contreras](https://www.linkedin.com/in/juanf-contreras/)"
   ]
  },
  {
   "cell_type": "markdown",
   "id": "5a708c73-bded-4fd7-ba7b-810c550a138e",
   "metadata": {},
   "source": [
    "<h1 align = 'center'> Entrenamiento de una red neuronal artifical </h1>"
   ]
  },
  {
   "cell_type": "markdown",
   "id": "1e974d12-03f8-4925-ab57-7cd81bdfb073",
   "metadata": {},
   "source": [
    "La optimización de funciones matemáticas es fundamental en el entrenamiento de redes neuronales artificiales, ya que permite ajustar los pesos y sesgos de la red para minimizar una función de pérdida. Esta función de pérdida evalúa qué tan bien la red está realizando la tarea deseada en un conjunto de datos de entrenamiento. Utilizando algoritmos de optimización como el descenso de gradiente, la red ajusta sus parámetros en cada iteración del entrenamiento para mejorar su desempeño. La optimización busca encontrar los valores óptimos de los parámetros que minimizan la función de pérdida, lo que implica que la red se adapta mejor a los datos de entrenamiento y generaliza bien a datos no vistos. En resumen, la optimización de funciones matemáticas en el contexto de las redes neuronales artificiales es crucial para mejorar su capacidad de aprendizaje y rendimiento en diversas tareas.\n",
    "\n",
    "En tareas de regresión, típicamente queremos resolver el problema\n",
    "\n",
    "$$MSE = \\frac{1}{N} \\sum_{i = 1}^{N} \\left( y_{i} - \\hat{y}_{i} \\right)^{2}$$\n",
    "\n",
    "- $N$: Número de observaciones\n",
    "\n",
    "- $y$: variable de respuesta\n",
    "\n",
    "- $\\hat{y}$: predicción de la variable de respuesta\n",
    "\n",
    "En tareas de clasificación, la función objetivo típicamente es\n",
    "\n",
    "$$CE = - \\frac{1}{N} \\sum_{i = 1}^{N} \\frac{j = 1}{K} y_{ij} log(\\hat{y}_{ij})$$\n",
    "\n",
    "- $N$: Número de observaciones\n",
    "\n",
    "- $K$: Número de clases\n",
    "\n",
    "- $y_{ij}$: variable binaria $1$ si la observación $i$ pertenece a la clase $j$, 0 en caso contrario\n",
    "\n",
    "- $\\hat{y}_{ij}$: es la probabilidad predicha de que la observación $i$ pertenezca a la clase $j$\n",
    "\n",
    "Para ambos casos, el vector $\\mathbf{\\hat{y}}$ corresponde a una función de los parámetros del modelo utilizado. En el caso de las redes neuronales artificiales, entre más capas ocultas y mayor número de neuronas más complicada es esta función y mayor número de variables tendrá. Y, dado que, usualmente definimos muchas funciones de activación no lineales, la optimización de esta función se complica y debemos contar con algoritmos eficientes para soluciones el problema de optimización."
   ]
  },
  {
   "cell_type": "markdown",
   "id": "e99ffbf1-7a9a-4b96-9f0c-a581e6055ca5",
   "metadata": {},
   "source": [
    "<h2> Decenso del gradiente </h2>"
   ]
  },
  {
   "cell_type": "markdown",
   "id": "ae5f48af-dbf4-4a09-8011-aceababc5bcd",
   "metadata": {},
   "source": [
    "El problema del descenso de gradiente es un algoritmo de optimización utilizado para encontrar el mínimo global de una función, en nuestro caso, la función de pérdida $L(\\mathbf{w})$, donde $\\mathbf{w})$ representa los parámetros del modelo que queremos ajustar para minimizar la pérdida. \n",
    "\n",
    "El descenso de gradiente se basa en la idea de iterativamente ajustar los parámetros en la dirección opuesta al gradiente de la función de pérdida. El gradiente de una función es un vector que indica la dirección en la cual la función crece más rápidamente. Por lo tanto, al moverse en la dirección opuesta al gradiente, podemos descender hacia un mínimo de la función.\n",
    "\n",
    "El algoritmo del descenso de gradiente se define de la siguiente manera:\n",
    "\n",
    "1. Inicializar los parámetros $\\mathbf{w}$ con valores aleatorios o algún valor inicial predefinido.\n",
    "2. Calcular el gradiente de la función de pérdida con respecto a los parámetros $w$: $\\nabla_{\\mathbf{w}} L(\\mathbf{w})$\n",
    "3. Actualizar los parámetros $\\mathbf{w}$ en la dirección opuesta al gradiente multiplicado por una tasa de aprendizaje $\\eta$: $\\mathbf{w} - \\eta \\nabla_{\\mathbf{w}} L(\\mathbf{w})$.\n",
    "4. Repetir los pasos 2 y 3 hasta que se cumpla un criterio de detención, como alcanzar un número máximo de iteraciones o cuando la mejora en la función de pérdida sea mínima.\n",
    "\n",
    "Este proceso de actualización de los parámetros se repite iterativamente hasta que se alcanza la convergencia y se encuentra un mínimo local o global de la función de pérdida. La tasa de aprendizaje ($\\eta$) es un hiperparámetro que controla la magnitud de los pasos que damos en cada iteración. Un valor demasiado grande puede causar oscilaciones o divergencia, mientras que un valor demasiado pequeño puede hacer que el algoritmo converja lentamente.\n",
    "\n",
    "Matemáticamente esto se representa así:\n",
    "\n",
    "Sea $\\mathbf{w}^{0}$ el valor inicial de los parámetros del modelo (inicializados aleatoriamente); para $\\mathbf{w}^{t}$, $t = 1, 2, 3, ...$  tenemos\n",
    "\n",
    "$$\\mathbf{w}^{t + 1} = \\mathbf{w}^{t} - \\eta \\nabla_{\\mathbf{w}} L(\\mathbf{w}^{t})$$"
   ]
  },
  {
   "cell_type": "code",
   "execution_count": 1,
   "id": "c2c37fde-f64b-424e-8f59-d741bbdb38a8",
   "metadata": {},
   "outputs": [
    {
     "data": {
      "text/html": [
       "<img src=\"img/GD.gif\" />"
      ],
      "text/plain": [
       "<IPython.core.display.HTML object>"
      ]
     },
     "execution_count": 1,
     "metadata": {},
     "output_type": "execute_result"
    }
   ],
   "source": [
    "from IPython.display import Image, display, HTML\n",
    "HTML('<img src=\"img/GD.gif\" />', )"
   ]
  },
  {
   "cell_type": "markdown",
   "id": "98ddc4d5-53c8-4a5c-85c0-e6a64a5cfcb4",
   "metadata": {},
   "source": [
    "Fuente: Elaboración propia"
   ]
  },
  {
   "cell_type": "markdown",
   "id": "7e1221a3-5c15-4f58-b853-5de27bb1fd76",
   "metadata": {},
   "source": [
    "<h2> Ejemplo de clasificación: datos Iris </h2>"
   ]
  },
  {
   "cell_type": "code",
   "execution_count": 2,
   "id": "366779e5-9dca-4089-a2f9-b5e94934c66c",
   "metadata": {},
   "outputs": [],
   "source": [
    "import numpy as np\n",
    "from sklearn.datasets import load_iris\n",
    "from sklearn.model_selection import train_test_split\n",
    "from sklearn.preprocessing import OneHotEncoder\n",
    "from keras.models import Sequential\n",
    "from keras.layers import Dense"
   ]
  },
  {
   "cell_type": "code",
   "execution_count": 3,
   "id": "4553e972-8c48-417e-bfb3-b411c4dcb0d9",
   "metadata": {},
   "outputs": [],
   "source": [
    "# Load Iris dataset\n",
    "iris = load_iris()\n",
    "X = iris.data\n",
    "y = iris.target.reshape(-1, 1)"
   ]
  },
  {
   "cell_type": "code",
   "execution_count": 4,
   "id": "3d1b4630-6d8e-4208-9059-a6d45566ded6",
   "metadata": {},
   "outputs": [],
   "source": [
    "# One-hot encode the target variable\n",
    "encoder = OneHotEncoder(categories='auto')\n",
    "y = encoder.fit_transform(y).toarray()"
   ]
  },
  {
   "cell_type": "code",
   "execution_count": 5,
   "id": "79499698-e3c1-4ed2-98be-cba6364f146b",
   "metadata": {},
   "outputs": [
    {
     "data": {
      "text/plain": [
       "array([[1., 0., 0.],\n",
       "       [1., 0., 0.],\n",
       "       [1., 0., 0.],\n",
       "       [1., 0., 0.],\n",
       "       [1., 0., 0.],\n",
       "       [1., 0., 0.],\n",
       "       [1., 0., 0.],\n",
       "       [1., 0., 0.],\n",
       "       [1., 0., 0.],\n",
       "       [1., 0., 0.],\n",
       "       [1., 0., 0.],\n",
       "       [1., 0., 0.],\n",
       "       [1., 0., 0.],\n",
       "       [1., 0., 0.],\n",
       "       [1., 0., 0.],\n",
       "       [1., 0., 0.],\n",
       "       [1., 0., 0.],\n",
       "       [1., 0., 0.],\n",
       "       [1., 0., 0.],\n",
       "       [1., 0., 0.],\n",
       "       [1., 0., 0.],\n",
       "       [1., 0., 0.],\n",
       "       [1., 0., 0.],\n",
       "       [1., 0., 0.],\n",
       "       [1., 0., 0.],\n",
       "       [1., 0., 0.],\n",
       "       [1., 0., 0.],\n",
       "       [1., 0., 0.],\n",
       "       [1., 0., 0.],\n",
       "       [1., 0., 0.],\n",
       "       [1., 0., 0.],\n",
       "       [1., 0., 0.],\n",
       "       [1., 0., 0.],\n",
       "       [1., 0., 0.],\n",
       "       [1., 0., 0.],\n",
       "       [1., 0., 0.],\n",
       "       [1., 0., 0.],\n",
       "       [1., 0., 0.],\n",
       "       [1., 0., 0.],\n",
       "       [1., 0., 0.],\n",
       "       [1., 0., 0.],\n",
       "       [1., 0., 0.],\n",
       "       [1., 0., 0.],\n",
       "       [1., 0., 0.],\n",
       "       [1., 0., 0.],\n",
       "       [1., 0., 0.],\n",
       "       [1., 0., 0.],\n",
       "       [1., 0., 0.],\n",
       "       [1., 0., 0.],\n",
       "       [1., 0., 0.],\n",
       "       [0., 1., 0.],\n",
       "       [0., 1., 0.],\n",
       "       [0., 1., 0.],\n",
       "       [0., 1., 0.],\n",
       "       [0., 1., 0.],\n",
       "       [0., 1., 0.],\n",
       "       [0., 1., 0.],\n",
       "       [0., 1., 0.],\n",
       "       [0., 1., 0.],\n",
       "       [0., 1., 0.],\n",
       "       [0., 1., 0.],\n",
       "       [0., 1., 0.],\n",
       "       [0., 1., 0.],\n",
       "       [0., 1., 0.],\n",
       "       [0., 1., 0.],\n",
       "       [0., 1., 0.],\n",
       "       [0., 1., 0.],\n",
       "       [0., 1., 0.],\n",
       "       [0., 1., 0.],\n",
       "       [0., 1., 0.],\n",
       "       [0., 1., 0.],\n",
       "       [0., 1., 0.],\n",
       "       [0., 1., 0.],\n",
       "       [0., 1., 0.],\n",
       "       [0., 1., 0.],\n",
       "       [0., 1., 0.],\n",
       "       [0., 1., 0.],\n",
       "       [0., 1., 0.],\n",
       "       [0., 1., 0.],\n",
       "       [0., 1., 0.],\n",
       "       [0., 1., 0.],\n",
       "       [0., 1., 0.],\n",
       "       [0., 1., 0.],\n",
       "       [0., 1., 0.],\n",
       "       [0., 1., 0.],\n",
       "       [0., 1., 0.],\n",
       "       [0., 1., 0.],\n",
       "       [0., 1., 0.],\n",
       "       [0., 1., 0.],\n",
       "       [0., 1., 0.],\n",
       "       [0., 1., 0.],\n",
       "       [0., 1., 0.],\n",
       "       [0., 1., 0.],\n",
       "       [0., 1., 0.],\n",
       "       [0., 1., 0.],\n",
       "       [0., 1., 0.],\n",
       "       [0., 1., 0.],\n",
       "       [0., 1., 0.],\n",
       "       [0., 1., 0.],\n",
       "       [0., 1., 0.],\n",
       "       [0., 0., 1.],\n",
       "       [0., 0., 1.],\n",
       "       [0., 0., 1.],\n",
       "       [0., 0., 1.],\n",
       "       [0., 0., 1.],\n",
       "       [0., 0., 1.],\n",
       "       [0., 0., 1.],\n",
       "       [0., 0., 1.],\n",
       "       [0., 0., 1.],\n",
       "       [0., 0., 1.],\n",
       "       [0., 0., 1.],\n",
       "       [0., 0., 1.],\n",
       "       [0., 0., 1.],\n",
       "       [0., 0., 1.],\n",
       "       [0., 0., 1.],\n",
       "       [0., 0., 1.],\n",
       "       [0., 0., 1.],\n",
       "       [0., 0., 1.],\n",
       "       [0., 0., 1.],\n",
       "       [0., 0., 1.],\n",
       "       [0., 0., 1.],\n",
       "       [0., 0., 1.],\n",
       "       [0., 0., 1.],\n",
       "       [0., 0., 1.],\n",
       "       [0., 0., 1.],\n",
       "       [0., 0., 1.],\n",
       "       [0., 0., 1.],\n",
       "       [0., 0., 1.],\n",
       "       [0., 0., 1.],\n",
       "       [0., 0., 1.],\n",
       "       [0., 0., 1.],\n",
       "       [0., 0., 1.],\n",
       "       [0., 0., 1.],\n",
       "       [0., 0., 1.],\n",
       "       [0., 0., 1.],\n",
       "       [0., 0., 1.],\n",
       "       [0., 0., 1.],\n",
       "       [0., 0., 1.],\n",
       "       [0., 0., 1.],\n",
       "       [0., 0., 1.],\n",
       "       [0., 0., 1.],\n",
       "       [0., 0., 1.],\n",
       "       [0., 0., 1.],\n",
       "       [0., 0., 1.],\n",
       "       [0., 0., 1.],\n",
       "       [0., 0., 1.],\n",
       "       [0., 0., 1.],\n",
       "       [0., 0., 1.],\n",
       "       [0., 0., 1.],\n",
       "       [0., 0., 1.]])"
      ]
     },
     "execution_count": 5,
     "metadata": {},
     "output_type": "execute_result"
    }
   ],
   "source": [
    "y"
   ]
  },
  {
   "cell_type": "code",
   "execution_count": 6,
   "id": "71dc9abf-dc19-487a-808a-50b9d4cf627e",
   "metadata": {},
   "outputs": [],
   "source": [
    "# Split dataset into training and testing sets\n",
    "X_train, X_test, y_train, y_test = train_test_split(X, y, \n",
    "                                                    test_size=0.2, \n",
    "                                                    random_state=42, stratify=y)"
   ]
  },
  {
   "cell_type": "code",
   "execution_count": 7,
   "id": "07eba736-4359-46b4-bcdb-59a4d0d60b40",
   "metadata": {},
   "outputs": [],
   "source": [
    "num_features = X.shape[1]\n",
    "\n",
    "\n",
    "model = Sequential()\n",
    "model.add(Dense(10, input_dim=num_features, activation='relu')) # 10 neurons in the first hidden layer\n",
    "model.add(Dense(8, activation='relu')) # 8 neurons in the second hidden layer\n",
    "model.add(Dense(3, activation='softmax')) # 3 neurons in the output layer for the 3 classes"
   ]
  },
  {
   "cell_type": "code",
   "execution_count": 8,
   "id": "19435df2-a785-4946-b58d-255ab612607d",
   "metadata": {},
   "outputs": [],
   "source": [
    "# Compile the model\n",
    "model.compile(loss='categorical_crossentropy', optimizer='adam', metrics=['accuracy'])"
   ]
  },
  {
   "cell_type": "code",
   "execution_count": 9,
   "id": "33c10e80-69c9-4812-9a90-481d92ab63ea",
   "metadata": {},
   "outputs": [
    {
     "name": "stdout",
     "output_type": "stream",
     "text": [
      "Model: \"sequential\"\n",
      "_________________________________________________________________\n",
      " Layer (type)                Output Shape              Param #   \n",
      "=================================================================\n",
      " dense (Dense)               (None, 10)                50        \n",
      "                                                                 \n",
      " dense_1 (Dense)             (None, 8)                 88        \n",
      "                                                                 \n",
      " dense_2 (Dense)             (None, 3)                 27        \n",
      "                                                                 \n",
      "=================================================================\n",
      "Total params: 165\n",
      "Trainable params: 165\n",
      "Non-trainable params: 0\n",
      "_________________________________________________________________\n"
     ]
    }
   ],
   "source": [
    "model.summary()"
   ]
  },
  {
   "cell_type": "code",
   "execution_count": 10,
   "id": "76f73ee1-bf96-4189-9f71-33126f123979",
   "metadata": {},
   "outputs": [
    {
     "name": "stdout",
     "output_type": "stream",
     "text": [
      "Epoch 1/100\n",
      " 1/24 [>.............................] - ETA: 4s - loss: 1.3452 - accuracy: 0.0000e+00"
     ]
    },
    {
     "name": "stderr",
     "output_type": "stream",
     "text": [
      "2024-05-25 17:10:38.063831: W tensorflow/tsl/platform/profile_utils/cpu_utils.cc:128] Failed to get CPU frequency: 0 Hz\n"
     ]
    },
    {
     "name": "stdout",
     "output_type": "stream",
     "text": [
      "24/24 [==============================] - 0s 617us/step - loss: 1.0502 - accuracy: 0.3250\n",
      "Epoch 2/100\n",
      "24/24 [==============================] - 0s 577us/step - loss: 0.9269 - accuracy: 0.3750\n",
      "Epoch 3/100\n",
      "24/24 [==============================] - 0s 512us/step - loss: 0.8505 - accuracy: 0.7167\n",
      "Epoch 4/100\n",
      "24/24 [==============================] - 0s 501us/step - loss: 0.7871 - accuracy: 0.8917\n",
      "Epoch 5/100\n",
      "24/24 [==============================] - 0s 472us/step - loss: 0.7304 - accuracy: 0.8917\n",
      "Epoch 6/100\n",
      "24/24 [==============================] - 0s 467us/step - loss: 0.6816 - accuracy: 0.8750\n",
      "Epoch 7/100\n",
      "24/24 [==============================] - 0s 485us/step - loss: 0.6375 - accuracy: 0.8333\n",
      "Epoch 8/100\n",
      "24/24 [==============================] - 0s 443us/step - loss: 0.5968 - accuracy: 0.9083\n",
      "Epoch 9/100\n",
      "24/24 [==============================] - 0s 516us/step - loss: 0.5562 - accuracy: 0.9417\n",
      "Epoch 10/100\n",
      "24/24 [==============================] - 0s 452us/step - loss: 0.5179 - accuracy: 0.9500\n",
      "Epoch 11/100\n",
      "24/24 [==============================] - 0s 499us/step - loss: 0.4886 - accuracy: 0.9500\n",
      "Epoch 12/100\n",
      "24/24 [==============================] - 0s 450us/step - loss: 0.4709 - accuracy: 0.8417\n",
      "Epoch 13/100\n",
      "24/24 [==============================] - 0s 472us/step - loss: 0.4334 - accuracy: 0.9417\n",
      "Epoch 14/100\n",
      "24/24 [==============================] - 0s 439us/step - loss: 0.4011 - accuracy: 0.9500\n",
      "Epoch 15/100\n",
      "24/24 [==============================] - 0s 497us/step - loss: 0.3776 - accuracy: 0.9667\n",
      "Epoch 16/100\n",
      "24/24 [==============================] - 0s 450us/step - loss: 0.3567 - accuracy: 0.9667\n",
      "Epoch 17/100\n",
      "24/24 [==============================] - 0s 1ms/step - loss: 0.3426 - accuracy: 0.9583\n",
      "Epoch 18/100\n",
      "24/24 [==============================] - 0s 521us/step - loss: 0.3294 - accuracy: 0.9333\n",
      "Epoch 19/100\n",
      "24/24 [==============================] - 0s 422us/step - loss: 0.3086 - accuracy: 0.9583\n",
      "Epoch 20/100\n",
      "24/24 [==============================] - 0s 494us/step - loss: 0.2952 - accuracy: 0.9667\n",
      "Epoch 21/100\n",
      "24/24 [==============================] - 0s 463us/step - loss: 0.2839 - accuracy: 0.9667\n",
      "Epoch 22/100\n",
      "24/24 [==============================] - 0s 519us/step - loss: 0.2735 - accuracy: 0.9667\n",
      "Epoch 23/100\n",
      "24/24 [==============================] - 0s 433us/step - loss: 0.2644 - accuracy: 0.9667\n",
      "Epoch 24/100\n",
      "24/24 [==============================] - 0s 500us/step - loss: 0.2514 - accuracy: 0.9667\n",
      "Epoch 25/100\n",
      "24/24 [==============================] - 0s 427us/step - loss: 0.2450 - accuracy: 0.9583\n",
      "Epoch 26/100\n",
      "24/24 [==============================] - 0s 493us/step - loss: 0.2372 - accuracy: 0.9583\n",
      "Epoch 27/100\n",
      "24/24 [==============================] - 0s 442us/step - loss: 0.2386 - accuracy: 0.9333\n",
      "Epoch 28/100\n",
      "24/24 [==============================] - 0s 488us/step - loss: 0.2226 - accuracy: 0.9583\n",
      "Epoch 29/100\n",
      "24/24 [==============================] - 0s 421us/step - loss: 0.2098 - accuracy: 0.9667\n",
      "Epoch 30/100\n",
      "24/24 [==============================] - 0s 480us/step - loss: 0.2065 - accuracy: 0.9667\n",
      "Epoch 31/100\n",
      "24/24 [==============================] - 0s 454us/step - loss: 0.2025 - accuracy: 0.9583\n",
      "Epoch 32/100\n",
      "24/24 [==============================] - 0s 503us/step - loss: 0.1920 - accuracy: 0.9667\n",
      "Epoch 33/100\n",
      "24/24 [==============================] - 0s 414us/step - loss: 0.1883 - accuracy: 0.9667\n",
      "Epoch 34/100\n",
      "24/24 [==============================] - 0s 515us/step - loss: 0.1834 - accuracy: 0.9667\n",
      "Epoch 35/100\n",
      "24/24 [==============================] - 0s 430us/step - loss: 0.1808 - accuracy: 0.9667\n",
      "Epoch 36/100\n",
      "24/24 [==============================] - 0s 475us/step - loss: 0.1794 - accuracy: 0.9583\n",
      "Epoch 37/100\n",
      "24/24 [==============================] - 0s 440us/step - loss: 0.1731 - accuracy: 0.9583\n",
      "Epoch 38/100\n",
      "24/24 [==============================] - 0s 485us/step - loss: 0.1660 - accuracy: 0.9667\n",
      "Epoch 39/100\n",
      "24/24 [==============================] - 0s 471us/step - loss: 0.1618 - accuracy: 0.9667\n",
      "Epoch 40/100\n",
      "24/24 [==============================] - 0s 477us/step - loss: 0.1606 - accuracy: 0.9667\n",
      "Epoch 41/100\n",
      "24/24 [==============================] - 0s 451us/step - loss: 0.1588 - accuracy: 0.9583\n",
      "Epoch 42/100\n",
      "24/24 [==============================] - 0s 489us/step - loss: 0.1477 - accuracy: 0.9750\n",
      "Epoch 43/100\n",
      "24/24 [==============================] - 0s 460us/step - loss: 0.1461 - accuracy: 0.9667\n",
      "Epoch 44/100\n",
      "24/24 [==============================] - 0s 484us/step - loss: 0.1456 - accuracy: 0.9667\n",
      "Epoch 45/100\n",
      "24/24 [==============================] - 0s 425us/step - loss: 0.1412 - accuracy: 0.9667\n",
      "Epoch 46/100\n",
      "24/24 [==============================] - 0s 443us/step - loss: 0.1389 - accuracy: 0.9750\n",
      "Epoch 47/100\n",
      "24/24 [==============================] - 0s 472us/step - loss: 0.1439 - accuracy: 0.9500\n",
      "Epoch 48/100\n",
      "24/24 [==============================] - 0s 425us/step - loss: 0.1315 - accuracy: 0.9750\n",
      "Epoch 49/100\n",
      "24/24 [==============================] - 0s 472us/step - loss: 0.1316 - accuracy: 0.9667\n",
      "Epoch 50/100\n",
      "24/24 [==============================] - 0s 444us/step - loss: 0.1276 - accuracy: 0.9750\n",
      "Epoch 51/100\n",
      "24/24 [==============================] - 0s 447us/step - loss: 0.1261 - accuracy: 0.9667\n",
      "Epoch 52/100\n",
      "24/24 [==============================] - 0s 456us/step - loss: 0.1267 - accuracy: 0.9667\n",
      "Epoch 53/100\n",
      "24/24 [==============================] - 0s 434us/step - loss: 0.1319 - accuracy: 0.9667\n",
      "Epoch 54/100\n",
      "24/24 [==============================] - 0s 438us/step - loss: 0.1287 - accuracy: 0.9583\n",
      "Epoch 55/100\n",
      "24/24 [==============================] - 0s 430us/step - loss: 0.1185 - accuracy: 0.9833\n",
      "Epoch 56/100\n",
      "24/24 [==============================] - 0s 480us/step - loss: 0.1192 - accuracy: 0.9667\n",
      "Epoch 57/100\n",
      "24/24 [==============================] - 0s 461us/step - loss: 0.1175 - accuracy: 0.9667\n",
      "Epoch 58/100\n",
      "24/24 [==============================] - 0s 406us/step - loss: 0.1158 - accuracy: 0.9667\n",
      "Epoch 59/100\n",
      "24/24 [==============================] - 0s 463us/step - loss: 0.1204 - accuracy: 0.9750\n",
      "Epoch 60/100\n",
      "24/24 [==============================] - 0s 433us/step - loss: 0.1101 - accuracy: 0.9667\n",
      "Epoch 61/100\n",
      "24/24 [==============================] - 0s 444us/step - loss: 0.1111 - accuracy: 0.9667\n",
      "Epoch 62/100\n",
      "24/24 [==============================] - 0s 458us/step - loss: 0.1067 - accuracy: 0.9667\n",
      "Epoch 63/100\n",
      "24/24 [==============================] - 0s 1ms/step - loss: 0.1122 - accuracy: 0.9583\n",
      "Epoch 64/100\n",
      "24/24 [==============================] - 0s 437us/step - loss: 0.1096 - accuracy: 0.9667\n",
      "Epoch 65/100\n",
      "24/24 [==============================] - 0s 449us/step - loss: 0.1117 - accuracy: 0.9667\n",
      "Epoch 66/100\n",
      "24/24 [==============================] - 0s 459us/step - loss: 0.1083 - accuracy: 0.9750\n",
      "Epoch 67/100\n",
      "24/24 [==============================] - 0s 452us/step - loss: 0.1035 - accuracy: 0.9667\n",
      "Epoch 68/100\n",
      "24/24 [==============================] - 0s 461us/step - loss: 0.1009 - accuracy: 0.9667\n",
      "Epoch 69/100\n",
      "24/24 [==============================] - 0s 405us/step - loss: 0.1040 - accuracy: 0.9667\n",
      "Epoch 70/100\n",
      "24/24 [==============================] - 0s 483us/step - loss: 0.0992 - accuracy: 0.9667\n",
      "Epoch 71/100\n",
      "24/24 [==============================] - 0s 405us/step - loss: 0.0987 - accuracy: 0.9833\n",
      "Epoch 72/100\n",
      "24/24 [==============================] - 0s 445us/step - loss: 0.1006 - accuracy: 0.9750\n",
      "Epoch 73/100\n",
      "24/24 [==============================] - 0s 451us/step - loss: 0.1053 - accuracy: 0.9667\n",
      "Epoch 74/100\n",
      "24/24 [==============================] - 0s 419us/step - loss: 0.0997 - accuracy: 0.9750\n",
      "Epoch 75/100\n",
      "24/24 [==============================] - 0s 444us/step - loss: 0.0971 - accuracy: 0.9667\n",
      "Epoch 76/100\n",
      "24/24 [==============================] - 0s 417us/step - loss: 0.1025 - accuracy: 0.9667\n",
      "Epoch 77/100\n",
      "24/24 [==============================] - 0s 471us/step - loss: 0.0939 - accuracy: 0.9833\n",
      "Epoch 78/100\n",
      "24/24 [==============================] - 0s 461us/step - loss: 0.0993 - accuracy: 0.9750\n",
      "Epoch 79/100\n",
      "24/24 [==============================] - 0s 498us/step - loss: 0.0947 - accuracy: 0.9667\n",
      "Epoch 80/100\n",
      "24/24 [==============================] - 0s 469us/step - loss: 0.0914 - accuracy: 0.9667\n",
      "Epoch 81/100\n",
      "24/24 [==============================] - 0s 411us/step - loss: 0.0939 - accuracy: 0.9667\n",
      "Epoch 82/100\n",
      "24/24 [==============================] - 0s 469us/step - loss: 0.1006 - accuracy: 0.9667\n",
      "Epoch 83/100\n",
      "24/24 [==============================] - 0s 453us/step - loss: 0.0940 - accuracy: 0.9750\n",
      "Epoch 84/100\n",
      "24/24 [==============================] - 0s 489us/step - loss: 0.0890 - accuracy: 0.9667\n",
      "Epoch 85/100\n",
      "24/24 [==============================] - 0s 486us/step - loss: 0.0994 - accuracy: 0.9750\n",
      "Epoch 86/100\n",
      "24/24 [==============================] - 0s 445us/step - loss: 0.0900 - accuracy: 0.9667\n",
      "Epoch 87/100\n",
      "24/24 [==============================] - 0s 424us/step - loss: 0.0891 - accuracy: 0.9667\n",
      "Epoch 88/100\n",
      "24/24 [==============================] - 0s 473us/step - loss: 0.0873 - accuracy: 0.9667\n",
      "Epoch 89/100\n",
      "24/24 [==============================] - 0s 429us/step - loss: 0.0891 - accuracy: 0.9583\n",
      "Epoch 90/100\n",
      "24/24 [==============================] - 0s 479us/step - loss: 0.0844 - accuracy: 0.9667\n",
      "Epoch 91/100\n",
      "24/24 [==============================] - 0s 411us/step - loss: 0.0855 - accuracy: 0.9667\n",
      "Epoch 92/100\n",
      "24/24 [==============================] - 0s 475us/step - loss: 0.0942 - accuracy: 0.9667\n",
      "Epoch 93/100\n",
      "24/24 [==============================] - 0s 417us/step - loss: 0.0948 - accuracy: 0.9583\n",
      "Epoch 94/100\n",
      "24/24 [==============================] - 0s 469us/step - loss: 0.0878 - accuracy: 0.9750\n",
      "Epoch 95/100\n",
      "24/24 [==============================] - 0s 409us/step - loss: 0.0867 - accuracy: 0.9667\n",
      "Epoch 96/100\n",
      "24/24 [==============================] - 0s 477us/step - loss: 0.0907 - accuracy: 0.9667\n",
      "Epoch 97/100\n",
      "24/24 [==============================] - 0s 408us/step - loss: 0.0847 - accuracy: 0.9833\n",
      "Epoch 98/100\n",
      "24/24 [==============================] - 0s 455us/step - loss: 0.0840 - accuracy: 0.9667\n",
      "Epoch 99/100\n",
      "24/24 [==============================] - 0s 430us/step - loss: 0.0815 - accuracy: 0.9667\n",
      "Epoch 100/100\n",
      "24/24 [==============================] - 0s 464us/step - loss: 0.0846 - accuracy: 0.9750\n",
      "1/1 [==============================] - 0s 57ms/step - loss: 0.0612 - accuracy: 1.0000\n"
     ]
    }
   ],
   "source": [
    "# Train the model\n",
    "model.fit(X_train, y_train, epochs=100, batch_size=5)\n",
    "\n",
    "# Evaluate the model\n",
    "loss, accuracy = model.evaluate(X_test, y_test)"
   ]
  },
  {
   "cell_type": "code",
   "execution_count": 11,
   "id": "dae6b4ad-4280-45f1-a4e1-ac0abd74d584",
   "metadata": {},
   "outputs": [
    {
     "name": "stdout",
     "output_type": "stream",
     "text": [
      "Exactitud: 1.0\n"
     ]
    }
   ],
   "source": [
    "print('Exactitud:', accuracy)"
   ]
  },
  {
   "cell_type": "code",
   "execution_count": 12,
   "id": "9876b538-890f-4774-9cde-e337a9f995ac",
   "metadata": {},
   "outputs": [
    {
     "name": "stdout",
     "output_type": "stream",
     "text": [
      "1/1 [==============================] - 0s 32ms/step\n"
     ]
    }
   ],
   "source": [
    "from sklearn.metrics import confusion_matrix\n",
    "\n",
    "# Predict classes for test set\n",
    "y_pred = model.predict(X_test)\n",
    "# Convert predicted classes to one-hot encoding\n",
    "y_pred_classes = np.argmax(y_pred, axis=1)\n",
    "# Convert true classes to one-hot encoding\n",
    "y_true_classes = np.argmax(y_test, axis=1)"
   ]
  },
  {
   "cell_type": "code",
   "execution_count": 13,
   "id": "23913664-3ab3-4f85-b189-0b32f7c5dd4f",
   "metadata": {},
   "outputs": [
    {
     "name": "stdout",
     "output_type": "stream",
     "text": [
      "Confusion Matrix:\n",
      "[[10  0  0]\n",
      " [ 0 10  0]\n",
      " [ 0  0 10]]\n"
     ]
    }
   ],
   "source": [
    "# Compute confusion matrix\n",
    "conf_matrix = confusion_matrix(y_true_classes, y_pred_classes)\n",
    "\n",
    "print(\"Confusion Matrix:\")\n",
    "print(conf_matrix)"
   ]
  },
  {
   "cell_type": "markdown",
   "id": "c3128758-f11e-4dec-818d-e601ef06b74e",
   "metadata": {},
   "source": [
    "<h1> Ejemplo de regresión: Casas de California </h1>"
   ]
  },
  {
   "cell_type": "code",
   "execution_count": 14,
   "id": "02c530e3-74f7-4bb1-831f-c2676646206c",
   "metadata": {},
   "outputs": [],
   "source": [
    "import numpy as np\n",
    "from sklearn.datasets import fetch_california_housing\n",
    "from sklearn.model_selection import train_test_split\n",
    "from sklearn.preprocessing import StandardScaler\n",
    "from keras.models import Sequential\n",
    "from keras.layers import Dense"
   ]
  },
  {
   "cell_type": "code",
   "execution_count": 15,
   "id": "78191cc4-0384-47c3-85d4-550dcddc452d",
   "metadata": {},
   "outputs": [],
   "source": [
    "# Load California housing dataset\n",
    "housing = fetch_california_housing()\n",
    "\n",
    "# Split dataset into features and target variable\n",
    "X = housing.data\n",
    "y = housing.target"
   ]
  },
  {
   "cell_type": "code",
   "execution_count": 16,
   "id": "2d5f78ce-7f8d-4901-b81c-0d220e0887ac",
   "metadata": {},
   "outputs": [],
   "source": [
    "# Split dataset into training and testing sets\n",
    "X_train, X_test, y_train, y_test = train_test_split(X, y, test_size=0.2, random_state=42)"
   ]
  },
  {
   "cell_type": "code",
   "execution_count": 17,
   "id": "3fb3d0ae-d567-4fc6-af7f-a50422bb5115",
   "metadata": {},
   "outputs": [],
   "source": [
    "# Scale features\n",
    "scaler = StandardScaler()\n",
    "X_train_scaled = scaler.fit_transform(X_train)\n",
    "X_test_scaled = scaler.transform(X_test)"
   ]
  },
  {
   "cell_type": "code",
   "execution_count": 18,
   "id": "2c983ad4-b1d2-4db5-89f6-2a6dda4259bf",
   "metadata": {},
   "outputs": [],
   "source": [
    "# Define the regression model\n",
    "model = Sequential()\n",
    "model.add(Dense(20, input_dim=X_train.shape[1], activation='relu')) # 20 neurons in the hidden layer\n",
    "model.add(Dense(1)) # Single neuron in the output layer for regression"
   ]
  },
  {
   "cell_type": "code",
   "execution_count": 19,
   "id": "24578fe7-216e-40fa-9dfa-138f25ed5857",
   "metadata": {},
   "outputs": [],
   "source": [
    "# Compile the model\n",
    "model.compile(loss='mean_squared_error', optimizer='adam')"
   ]
  },
  {
   "cell_type": "code",
   "execution_count": 20,
   "id": "d1d9850d-6d05-40dd-b890-592902f5638e",
   "metadata": {},
   "outputs": [
    {
     "name": "stdout",
     "output_type": "stream",
     "text": [
      "Model: \"sequential_1\"\n",
      "_________________________________________________________________\n",
      " Layer (type)                Output Shape              Param #   \n",
      "=================================================================\n",
      " dense_3 (Dense)             (None, 20)                180       \n",
      "                                                                 \n",
      " dense_4 (Dense)             (None, 1)                 21        \n",
      "                                                                 \n",
      "=================================================================\n",
      "Total params: 201\n",
      "Trainable params: 201\n",
      "Non-trainable params: 0\n",
      "_________________________________________________________________\n"
     ]
    }
   ],
   "source": [
    "model.summary()"
   ]
  },
  {
   "cell_type": "code",
   "execution_count": 21,
   "id": "eea8ddb6-ba0b-43d6-acde-c2ba0d9dd799",
   "metadata": {},
   "outputs": [
    {
     "name": "stdout",
     "output_type": "stream",
     "text": [
      "Epoch 1/50\n",
      "3303/3303 [==============================] - 1s 307us/step - loss: 0.7677\n",
      "Epoch 2/50\n",
      "3303/3303 [==============================] - 1s 306us/step - loss: 0.4267\n",
      "Epoch 3/50\n",
      "3303/3303 [==============================] - 1s 306us/step - loss: 0.4011\n",
      "Epoch 4/50\n",
      "3303/3303 [==============================] - 1s 305us/step - loss: 0.3879\n",
      "Epoch 5/50\n",
      "3303/3303 [==============================] - 1s 305us/step - loss: 0.3785\n",
      "Epoch 6/50\n",
      "3303/3303 [==============================] - 1s 307us/step - loss: 0.3649\n",
      "Epoch 7/50\n",
      "3303/3303 [==============================] - 1s 303us/step - loss: 0.3602\n",
      "Epoch 8/50\n",
      "3303/3303 [==============================] - 1s 310us/step - loss: 0.3532\n",
      "Epoch 9/50\n",
      "3303/3303 [==============================] - 1s 305us/step - loss: 0.3477\n",
      "Epoch 10/50\n",
      "3303/3303 [==============================] - 1s 313us/step - loss: 0.3456\n",
      "Epoch 11/50\n",
      "3303/3303 [==============================] - 1s 309us/step - loss: 0.3429\n",
      "Epoch 12/50\n",
      "3303/3303 [==============================] - 1s 308us/step - loss: 0.3331\n",
      "Epoch 13/50\n",
      "3303/3303 [==============================] - 1s 306us/step - loss: 0.3328\n",
      "Epoch 14/50\n",
      "3303/3303 [==============================] - 1s 306us/step - loss: 0.3373\n",
      "Epoch 15/50\n",
      "3303/3303 [==============================] - 1s 315us/step - loss: 0.3258\n",
      "Epoch 16/50\n",
      "3303/3303 [==============================] - 1s 305us/step - loss: 0.3245\n",
      "Epoch 17/50\n",
      "3303/3303 [==============================] - 1s 309us/step - loss: 0.3367\n",
      "Epoch 18/50\n",
      "3303/3303 [==============================] - 1s 308us/step - loss: 0.3238\n",
      "Epoch 19/50\n",
      "3303/3303 [==============================] - 1s 329us/step - loss: 0.3209\n",
      "Epoch 20/50\n",
      "3303/3303 [==============================] - 1s 310us/step - loss: 0.3232\n",
      "Epoch 21/50\n",
      "3303/3303 [==============================] - 1s 307us/step - loss: 0.3197\n",
      "Epoch 22/50\n",
      "3303/3303 [==============================] - 1s 305us/step - loss: 0.3160\n",
      "Epoch 23/50\n",
      "3303/3303 [==============================] - 1s 316us/step - loss: 0.3227\n",
      "Epoch 24/50\n",
      "3303/3303 [==============================] - 1s 308us/step - loss: 0.3255\n",
      "Epoch 25/50\n",
      "3303/3303 [==============================] - 1s 310us/step - loss: 0.3110\n",
      "Epoch 26/50\n",
      "3303/3303 [==============================] - 1s 308us/step - loss: 0.3095\n",
      "Epoch 27/50\n",
      "3303/3303 [==============================] - 1s 317us/step - loss: 0.3110\n",
      "Epoch 28/50\n",
      "3303/3303 [==============================] - 1s 307us/step - loss: 0.3234\n",
      "Epoch 29/50\n",
      "3303/3303 [==============================] - 1s 308us/step - loss: 0.3091\n",
      "Epoch 30/50\n",
      "3303/3303 [==============================] - 1s 332us/step - loss: 0.3053\n",
      "Epoch 31/50\n",
      "3303/3303 [==============================] - 1s 318us/step - loss: 0.3111\n",
      "Epoch 32/50\n",
      "3303/3303 [==============================] - 1s 313us/step - loss: 0.3096\n",
      "Epoch 33/50\n",
      "3303/3303 [==============================] - 1s 314us/step - loss: 0.3085\n",
      "Epoch 34/50\n",
      "3303/3303 [==============================] - 1s 303us/step - loss: 0.3153\n",
      "Epoch 35/50\n",
      "3303/3303 [==============================] - 1s 308us/step - loss: 0.3019\n",
      "Epoch 36/50\n",
      "3303/3303 [==============================] - 1s 315us/step - loss: 0.3094\n",
      "Epoch 37/50\n",
      "3303/3303 [==============================] - 1s 305us/step - loss: 0.3097\n",
      "Epoch 38/50\n",
      "3303/3303 [==============================] - 1s 307us/step - loss: 0.3103\n",
      "Epoch 39/50\n",
      "3303/3303 [==============================] - 1s 337us/step - loss: 0.3008\n",
      "Epoch 40/50\n",
      "3303/3303 [==============================] - 1s 339us/step - loss: 0.2982\n",
      "Epoch 41/50\n",
      "3303/3303 [==============================] - 1s 307us/step - loss: 0.3140\n",
      "Epoch 42/50\n",
      "3303/3303 [==============================] - 1s 309us/step - loss: 0.2971\n",
      "Epoch 43/50\n",
      "3303/3303 [==============================] - 1s 309us/step - loss: 0.3019\n",
      "Epoch 44/50\n",
      "3303/3303 [==============================] - 1s 315us/step - loss: 0.3069\n",
      "Epoch 45/50\n",
      "3303/3303 [==============================] - 1s 319us/step - loss: 0.3029\n",
      "Epoch 46/50\n",
      "3303/3303 [==============================] - 1s 317us/step - loss: 0.3031\n",
      "Epoch 47/50\n",
      "3303/3303 [==============================] - 1s 314us/step - loss: 0.2981\n",
      "Epoch 48/50\n",
      "3303/3303 [==============================] - 1s 313us/step - loss: 0.3011\n",
      "Epoch 49/50\n",
      "3303/3303 [==============================] - 1s 306us/step - loss: 0.2975\n",
      "Epoch 50/50\n",
      "3303/3303 [==============================] - 1s 302us/step - loss: 0.3010\n",
      "129/129 [==============================] - 0s 305us/step - loss: 0.3000\n",
      "Mean Squared Error: 0.30003929138183594\n"
     ]
    }
   ],
   "source": [
    "# Train the model\n",
    "model.fit(X_train_scaled, y_train, epochs=50, batch_size=5)\n",
    "\n",
    "# Evaluate the model\n",
    "mse = model.evaluate(X_test_scaled, y_test)\n",
    "print(\"Mean Squared Error:\", mse)"
   ]
  },
  {
   "cell_type": "code",
   "execution_count": 22,
   "id": "10185286-d79b-42f5-b98b-8501e119753e",
   "metadata": {},
   "outputs": [],
   "source": [
    "import matplotlib.pyplot as plt"
   ]
  },
  {
   "cell_type": "code",
   "execution_count": 23,
   "id": "fba46d5c-5f1a-4cd2-b992-9e7cb1a71e59",
   "metadata": {},
   "outputs": [
    {
     "name": "stdout",
     "output_type": "stream",
     "text": [
      "129/129 [==============================] - 0s 292us/step\n"
     ]
    },
    {
     "data": {
      "image/png": "[encoded data removed]",
      "text/plain": [
       "<Figure size 800x600 with 1 Axes>"
      ]
     },
     "metadata": {},
     "output_type": "display_data"
    }
   ],
   "source": [
    "# Predict target values for test set\n",
    "y_pred = model.predict(X_test_scaled).flatten()\n",
    "\n",
    "# Plot true vs predicted values\n",
    "plt.figure(figsize=(8, 6))\n",
    "plt.scatter(y_test, y_pred, alpha=0.5)\n",
    "plt.xlabel('Precio real')\n",
    "plt.ylabel('Precio predicho')\n",
    "plt.title('Comparación entre realidad y predicción')\n",
    "plt.show()"
   ]
  },
  {
   "cell_type": "code",
   "execution_count": null,
   "id": "cb2a7fec-6017-4369-956d-e217b486066e",
   "metadata": {},
   "outputs": [],
   "source": []
  }
 ],
 "metadata": {
  "kernelspec": {
   "display_name": "Python 3 (ipykernel)",
   "language": "python",
   "name": "python3"
  },
  "language_info": {
   "codemirror_mode": {
    "name": "ipython",
    "version": 3
   },
   "file_extension": ".py",
   "mimetype": "text/x-python",
   "name": "python",
   "nbconvert_exporter": "python",
   "pygments_lexer": "ipython3",
   "version": "3.10.11"
  }
 },
 "nbformat": 4,
 "nbformat_minor": 5
}
